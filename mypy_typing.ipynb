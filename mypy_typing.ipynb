{
 "cells": [
  {
   "cell_type": "code",
   "execution_count": 1,
   "metadata": {},
   "outputs": [],
   "source": [
    "\"\"\"\n",
    "Add mypy type-checking cell magic to jupyter/ipython.\n",
    "Save this script to your ipython profile's startup directory.\n",
    "IPython's directories can be found via `ipython locate [profile]` to find the current ipython directory and ipython profile directory, respectively.\n",
    "For example, this file could exist on a path like this on mac:\n",
    "/Users/yourusername/.ipython/profile_default/startup/typecheck.py\n",
    "where /Users/yourusername/.ipython/profile_default/ is the ipython directory for\n",
    "the default profile.\n",
    "The line magic is called \"typecheck\" to avoid namespace conflict with the mypy\n",
    "package.\n",
    "\"\"\"\n",
    "\n",
    "from IPython.core.magic import register_cell_magic\n",
    "\n",
    "\n",
    "@register_cell_magic\n",
    "def typecheck(line, cell):\n",
    "    \"\"\"\n",
    "    Run the following cell though mypy.\n",
    "    Any parameters that would normally be passed to the mypy cli\n",
    "    can be passed on the first line, with the exception of the\n",
    "    -c flag we use to pass the code from the cell we want to execute\n",
    "     i.e.\n",
    "    %%typecheck --ignore-missing-imports\n",
    "    ...\n",
    "    ...\n",
    "    ...\n",
    "    mypy stdout and stderr will print prior to output of cell. If there are no conflicts,\n",
    "    nothing will be printed by mypy.\n",
    "    \"\"\"\n",
    "\n",
    "    from IPython import get_ipython\n",
    "    from mypy import api\n",
    "\n",
    "    # inserting a newline at the beginning of the cell\n",
    "    # ensures mypy's output matches the the line\n",
    "    # numbers in jupyter\n",
    "\n",
    "    cell = '\\n' + cell\n",
    "\n",
    "    mypy_result = api.run(['-c', cell] + line.split())\n",
    "\n",
    "    if mypy_result[0]:  # print mypy stdout\n",
    "        print(mypy_result[0])\n",
    "\n",
    "    if mypy_result[1]:  # print mypy stderr\n",
    "        print(mypy_result[1])\n",
    "\n",
    "    shell = get_ipython()\n",
    "    shell.run_cell(cell)"
   ]
  },
  {
   "cell_type": "code",
   "execution_count": null,
   "metadata": {},
   "outputs": [],
   "source": [
    "%%typecheck --ignore-missing-imports\n",
    "\n",
    "# Should fail! # REMOVE?\n",
    "\n",
    "import numpy as np\n",
    "def vector_addition(u: np.ndarray, v: np.ndarray) -> np.ndarray: # TODO\n",
    "    pass\n",
    "f = vector_addition(\"abc\", True) # TODO"
   ]
  }
 ],
 "metadata": {
  "kernelspec": {
   "display_name": "Python 3",
   "language": "python",
   "name": "python3"
  },
  "language_info": {
   "codemirror_mode": {
    "name": "ipython",
    "version": 3
   },
   "file_extension": ".py",
   "mimetype": "text/x-python",
   "name": "python",
   "nbconvert_exporter": "python",
   "pygments_lexer": "ipython3",
   "version": "3.7.3"
  }
 },
 "nbformat": 4,
 "nbformat_minor": 2
}
