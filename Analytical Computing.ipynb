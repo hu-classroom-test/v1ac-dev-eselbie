{
 "cells": [
  {
   "cell_type": "markdown",
   "metadata": {},
   "source": [
    "# Inleveropdrachten Analytical Computing\n",
    "- instructies\n",
    "- ToDo: mypy?"
   ]
  },
  {
   "cell_type": "code",
   "execution_count": 179,
   "metadata": {},
   "outputs": [],
   "source": [
    "import numpy as np\n",
    "import unittest as t\n",
    "import typing\n",
    "\n",
    "suite = t.TestSuite()\n",
    "\n",
    "def run_tests(test):\n",
    "    try:\n",
    "        shell = get_ipython()\n",
    "        ipython = True\n",
    "    except NameError:\n",
    "        ipython = False\n",
    "        \n",
    "    tl = t.TestLoader().loadTestsFromTestCase(test)\n",
    "    \n",
    "    if ipython:\n",
    "        s = t.TestSuite()\n",
    "        s.addTest(tl)\n",
    "        t.TextTestRunner(verbosity=2).run(s)\n",
    "    else:\n",
    "        suite.addTest(tl)"
   ]
  },
  {
   "cell_type": "markdown",
   "metadata": {},
   "source": [
    "## Opdracht 0\n",
    "Maak een functie die twee vectoren bij elkaar optelt. De vectoren zijn Numpy arrays. Het is de bedoeling dat je deze opgave zelf oplost, en dus geen gebruik maakt van de Numpy functionaliteit om twee arrays op te tellen.\n",
    "Gebruik onderstaande functie als basis voor je oplossing; in de cel eronder staan een paar test-cases, waaraan je kunt zien of je oplossing correct is."
   ]
  },
  {
   "cell_type": "code",
   "execution_count": 180,
   "metadata": {},
   "outputs": [],
   "source": [
    "def vector_addition(u: np.ndarray, v: np.ndarray) -> np.ndarray: # TODO\n",
    "    pass"
   ]
  },
  {
   "cell_type": "code",
   "execution_count": 181,
   "metadata": {},
   "outputs": [],
   "source": [
    "def vector_addition(u: np.ndarray, v: np.ndarray) -> np.ndarray: # REMOVE\n",
    "    if u.size == v.size:\n",
    "        return np.array([a+b for (a,b) in zip(u.tolist(),v.tolist())])\n",
    "    else:\n",
    "        raise(Exception(\"Vectors niet hetzelfde formaat\"))"
   ]
  },
  {
   "cell_type": "code",
   "execution_count": 182,
   "metadata": {},
   "outputs": [
    {
     "name": "stderr",
     "output_type": "stream",
     "text": [
      "test_additive_unit (__main__.TestVectorAddition) ... ok\n",
      "test_invalid_addition (__main__.TestVectorAddition) ... ok\n",
      "test_valid_addition (__main__.TestVectorAddition) ... ok\n",
      "\n",
      "----------------------------------------------------------------------\n",
      "Ran 3 tests in 0.009s\n",
      "\n",
      "OK\n"
     ]
    }
   ],
   "source": [
    "class TestVectorAddition(t.TestCase):\n",
    "    a = np.array((1, 2, 3))\n",
    "    b = np.array((4, 5, 6))\n",
    "    c = np.array((7,8))\n",
    "\n",
    "    def test_valid_addition(self):\n",
    "        np.testing.assert_array_equal(vector_addition(self.a, np.zeros(3)), self.a)\n",
    "    def test_additive_unit(self):\n",
    "        np.testing.assert_array_equal(vector_addition(self.a, self.b), np.array((5,7,9)))\n",
    "    def test_invalid_addition(self):\n",
    "        with self.assertRaises(Exception):\n",
    "            vector_addition(self.a, self.d)\n",
    "\n",
    "run_tests(TestVectorAddition)"
   ]
  },
  {
   "cell_type": "markdown",
   "metadata": {},
   "source": [
    "## Opdracht 1\n",
    "Maak een functie die de inverse van een vector geeft. Je mag niet geen gebruik maken van de Numpy functionaliteit om `-` op een hele array toe te passen.\n",
    "\n",
    "Ook hier moet je gebruik maken van het gegeven functie-template, en zijn test-functies beschikbaar. Voor alle volgende opdrachten geldt hetzelfde, tenzij anders aangegeven. Ook zal niet bij iedere opdracht expliciet vermeld worden dat je niet de ingebouwede Numpy-functionaliteit mag toepassen, dit wordt vanaf hier als bekend verondersteld."
   ]
  },
  {
   "cell_type": "code",
   "execution_count": 183,
   "metadata": {},
   "outputs": [],
   "source": [
    "def inverse_vector(v: np.ndarray) -> np.ndarray: # TODO\n",
    "    pass"
   ]
  },
  {
   "cell_type": "code",
   "execution_count": 184,
   "metadata": {},
   "outputs": [],
   "source": [
    "def inverse_vector(v: np.ndarray) -> np.ndarray: # REMOVE\n",
    "    return np.array([-a for a in v.tolist()])"
   ]
  },
  {
   "cell_type": "code",
   "execution_count": 185,
   "metadata": {
    "scrolled": true
   },
   "outputs": [
    {
     "name": "stderr",
     "output_type": "stream",
     "text": [
      "test_inverse (__main__.TestVectorInversion) ... ok\n",
      "test_inverse_of_zero (__main__.TestVectorInversion) ... ok\n",
      "test_sum_vector_inverse_is_zero (__main__.TestVectorInversion) ... ok\n",
      "\n",
      "----------------------------------------------------------------------\n",
      "Ran 3 tests in 0.032s\n",
      "\n",
      "OK\n"
     ]
    }
   ],
   "source": [
    "class TestVectorInversion(t.TestCase):\n",
    "    a = np.array((1, 2, 3))\n",
    "    z = np.zeros(3)\n",
    "\n",
    "    def test_inverse(self):\n",
    "        np.testing.assert_array_equal(inverse_vector(self.a), -self.a)\n",
    "    def test_inverse_of_zero(self):\n",
    "        np.testing.assert_array_equal(inverse_vector(self.z), self.z)\n",
    "    def test_sum_vector_inverse_is_zero(self):\n",
    "        np.testing.assert_array_equal(vector_addition(self.a, inverse_vector(self.a)), self.z)\n",
    "\n",
    "run_tests(TestVectorInversion)"
   ]
  },
  {
   "cell_type": "markdown",
   "metadata": {},
   "source": [
    "# Checkpoint 0\n",
    "- Instructies"
   ]
  },
  {
   "cell_type": "code",
   "execution_count": 186,
   "metadata": {},
   "outputs": [
    {
     "ename": "Exception",
     "evalue": "This error should not matter for testing Unit 0",
     "output_type": "error",
     "traceback": [
      "\u001b[0;31m---------------------------------------------------------------------------\u001b[0m",
      "\u001b[0;31mException\u001b[0m                                 Traceback (most recent call last)",
      "\u001b[0;32m<ipython-input-186-1d637609c6e0>\u001b[0m in \u001b[0;36m<module>\u001b[0;34m\u001b[0m\n\u001b[0;32m----> 1\u001b[0;31m \u001b[0;32mraise\u001b[0m\u001b[0;34m(\u001b[0m\u001b[0mException\u001b[0m\u001b[0;34m(\u001b[0m\u001b[0;34m\"This error should not matter for testing Unit 0\"\u001b[0m\u001b[0;34m)\u001b[0m\u001b[0;34m)\u001b[0m\u001b[0;34m\u001b[0m\u001b[0;34m\u001b[0m\u001b[0m\n\u001b[0m",
      "\u001b[0;31mException\u001b[0m: This error should not matter for testing Unit 0"
     ]
    }
   ],
   "source": [
    "raise(Exception(\"This error should not matter for testing Unit 0\"))"
   ]
  },
  {
   "cell_type": "code",
   "execution_count": 102,
   "metadata": {},
   "outputs": [],
   "source": []
  }
 ],
 "metadata": {
  "kernelspec": {
   "display_name": "Python 3",
   "language": "python",
   "name": "python3"
  },
  "language_info": {
   "codemirror_mode": {
    "name": "ipython",
    "version": 3
   },
   "file_extension": ".py",
   "mimetype": "text/x-python",
   "name": "python",
   "nbconvert_exporter": "python",
   "pygments_lexer": "ipython3",
   "version": "3.7.3"
  }
 },
 "nbformat": 4,
 "nbformat_minor": 2
}
